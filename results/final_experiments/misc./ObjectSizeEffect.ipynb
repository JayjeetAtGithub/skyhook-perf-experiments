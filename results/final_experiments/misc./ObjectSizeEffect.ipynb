{
 "cells": [
  {
   "cell_type": "code",
   "execution_count": 3,
   "id": "cognitive-cooling",
   "metadata": {},
   "outputs": [],
   "source": [
    "import numpy as np\n",
    "import pandas as pd\n",
    "import seaborn as sns\n",
    "import matplotlib.pyplot as plt\n",
    "from itertools import cycle"
   ]
  },
  {
   "cell_type": "code",
   "execution_count": 15,
   "id": "elect-indiana",
   "metadata": {
    "scrolled": true
   },
   "outputs": [
    {
     "data": {
      "image/png": "[encoded data removed]",
      "text/plain": [
       "<Figure size 1080x360 with 1 Axes>"
      ]
     },
     "metadata": {
      "needs_background": "light"
     },
     "output_type": "display_data"
    }
   ],
   "source": [
    "fig, axs = plt.subplots(1, 1, figsize=(15, 5), gridspec_kw={'hspace': 0.1, 'wspace': 0.2})\n",
    "palette = sns.color_palette('coolwarm', n_colors=5)\n",
    "plt.rcParams.update({'font.size': 10})\n",
    "sns.despine(top=True, right=True)\n",
    "\n",
    "def plot(axs):\n",
    "    results = []\n",
    "    for e in pq_4:\n",
    "      results.append([e, \"parquet\", \"4\"])\n",
    "    for e in pq_64:\n",
    "      results.append([e, \"parquet\", \"64\"])\n",
    "    for e in rpq_4:\n",
    "      results.append([e, 'rados-parquet', \"4\"])\n",
    "    for e in rpq_64:\n",
    "      results.append([e, 'rados-parquet', \"64\"])\n",
    "    df = pd.DataFrame(np.array(results), columns=['Duration (s)', 'File Format', 'Size (MB)'])\n",
    "    df[['Duration (s)']] = df[['Duration (s)']].apply(pd.to_numeric)\n",
    "    sns_plot = sns.barplot(x=\"File Format\", y=\"Duration (s)\", hue=\"Size (MB)\", data=df, ax=axs, palette=palette)\n",
    "    sns_plot.set(ylim=(0, 6000))\n",
    "\n",
    "    \n",
    "\n",
    "#  64MB / 10\n",
    "pq_4 =  [4694.339]\n",
    "pq_64 =  [2930.912]\n",
    "rpq_4 =  [5401.838]\n",
    "rpq_64 =  [3502.6229999999996]\n",
    "plot(axs)"
   ]
  }
 ],
 "metadata": {
  "kernelspec": {
   "display_name": "Python 3",
   "language": "python",
   "name": "python3"
  },
  "language_info": {
   "codemirror_mode": {
    "name": "ipython",
    "version": 3
   },
   "file_extension": ".py",
   "mimetype": "text/x-python",
   "name": "python",
   "nbconvert_exporter": "python",
   "pygments_lexer": "ipython3",
   "version": "3.9.0"
  }
 },
 "nbformat": 4,
 "nbformat_minor": 5
}
