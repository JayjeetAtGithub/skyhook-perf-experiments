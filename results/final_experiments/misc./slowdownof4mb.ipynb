{
 "cells": [
  {
   "cell_type": "code",
   "execution_count": 30,
   "id": "cordless-bristol",
   "metadata": {},
   "outputs": [],
   "source": [
    "# 8 nodes\n",
    "# sequential, 1 thread\n",
    "# 4MB and 64MB files"
   ]
  },
  {
   "cell_type": "code",
   "execution_count": 2,
   "id": "humanitarian-perception",
   "metadata": {},
   "outputs": [],
   "source": [
    "import numpy as np\n",
    "import pandas as pd\n",
    "import seaborn as sns\n",
    "import matplotlib.pyplot as plt\n",
    "from itertools import cycle"
   ]
  },
  {
   "cell_type": "code",
   "execution_count": 7,
   "id": "designed-resort",
   "metadata": {},
   "outputs": [
    {
     "data": {
      "text/plain": [
       "Text(0.5,1,'4MB')"
      ]
     },
     "execution_count": 7,
     "metadata": {},
     "output_type": "execute_result"
    },
    {
     "data": {
      "image/png": "[encoded data removed]",
      "text/plain": [
       "<Figure size 1080x360 with 2 Axes>"
      ]
     },
     "metadata": {
      "needs_background": "light"
     },
     "output_type": "display_data"
    }
   ],
   "source": [
    "fig, axs = plt.subplots(1, 2, figsize=(15, 5), gridspec_kw={'hspace': 0.1, 'wspace': 0.2})\n",
    "palette = sns.color_palette('coolwarm', n_colors=5)\n",
    "plt.rcParams.update({'font.size': 10})\n",
    "sns.despine(top=True, right=True)\n",
    "\n",
    "def plot(axs):\n",
    "    results = []\n",
    "    for e in pq_100:\n",
    "      results.append([e, \"parquet\", \"100\"])\n",
    "    for e in pq_10:\n",
    "      results.append([e, \"parquet\", \"10\"])\n",
    "    for e in pq_1:\n",
    "      results.append([e, \"parquet\", \"1\"])\n",
    "    for e in rpq_100:\n",
    "      results.append([e, 'rados-parquet', \"100\"])\n",
    "    for e in rpq_10:\n",
    "      results.append([e, 'rados-parquet', \"10\"])\n",
    "    for e in rpq_1:\n",
    "      results.append([e, 'rados-parquet', \"1\"])\n",
    "    df = pd.DataFrame(np.array(results), columns=['Duration (s)', 'File Format', 'Selectivity (%)'])\n",
    "    df[['Duration (s)']] = df[['Duration (s)']].apply(pd.to_numeric)\n",
    "    sns_plot = sns.barplot(x=\"Selectivity (%)\", y=\"Duration (s)\", hue=\"File Format\", data=df, ax=axs, palette=palette)\n",
    "    sns_plot.set(ylim=(0, 80))\n",
    "\n",
    "    \n",
    "\n",
    "#  64MB / 10\n",
    "rpq_1 =  [34.89410161972046, 35.33844804763794, 34.818780183792114]\n",
    "rpq_10 =  [36.68063807487488, 36.12192249298096, 36.667436361312866]\n",
    "rpq_100 =  [45.82290577888489, 44.68938636779785, 44.78087878227234]\n",
    "pq_1 =  [26.086652755737305, 25.9409396648407, 25.88572335243225]\n",
    "pq_10 =  [26.588201999664307, 26.72333288192749, 26.622409343719482]\n",
    "pq_100 =  [25.488560438156128, 25.31244444847107, 25.447848320007324]\n",
    "plot(axs[0])\n",
    "\n",
    "# 4MB / 130\n",
    "rpq_1 =  [57.43201923370361, 58.36152768135071, 57.20792078971863]\n",
    "rpq_10 =  [59.0811083316803, 60.88957643508911, 60.5244357585907]\n",
    "rpq_100 =  [69.9152901172638, 68.94353890419006, 69.32586002349854]\n",
    "pq_100 =  [28.695841789245605, 28.64312195777893, 28.75735378265381]\n",
    "pq_10 =  [30.76074528694153, 30.418774366378784, 30.33691954612732]\n",
    "pq_1 =  [30.07595157623291, 29.96924662590027, 29.920074462890625]\n",
    "plot(axs[1])\n",
    "\n",
    "axs[0].set_title('64MB')\n",
    "axs[1].set_title('4MB')"
   ]
  }
 ],
 "metadata": {
  "kernelspec": {
   "display_name": "Python 3",
   "language": "python",
   "name": "python3"
  },
  "language_info": {
   "codemirror_mode": {
    "name": "ipython",
    "version": 3
   },
   "file_extension": ".py",
   "mimetype": "text/x-python",
   "name": "python",
   "nbconvert_exporter": "python",
   "pygments_lexer": "ipython3",
   "version": "3.9.0"
  }
 },
 "nbformat": 4,
 "nbformat_minor": 5
}
