{
 "cells": [
  {
   "cell_type": "code",
   "execution_count": 2,
   "id": "attended-shape",
   "metadata": {},
   "outputs": [],
   "source": [
    "import numpy as np\n",
    "import pandas as pd\n",
    "import seaborn as sns\n",
    "import matplotlib.pyplot as plt\n",
    "from itertools import cycle"
   ]
  },
  {
   "cell_type": "code",
   "execution_count": 6,
   "id": "consistent-ready",
   "metadata": {},
   "outputs": [
    {
     "data": {
      "image/png": "[encoded data removed]",
      "text/plain": [
       "<Figure size 1080x360 with 1 Axes>"
      ]
     },
     "metadata": {
      "needs_background": "light"
     },
     "output_type": "display_data"
    }
   ],
   "source": [
    "fig, axs = plt.subplots(1, 1, figsize=(15, 5), gridspec_kw={'hspace': 0.1, 'wspace': 0.2})\n",
    "plt.rcParams.update({'font.size': 10})\n",
    "sns.despine(top=True, right=True)\n",
    "\n",
    "def plot(axs):\n",
    "    palette1 = sns.color_palette(\"Paired\", n_colors=5)\n",
    "    palette2 = sns.color_palette(\"coolwarm\", n_colors=5)\n",
    "    results = []\n",
    "    results2 = []\n",
    "    for e in pq_4_o:\n",
    "      results.append([e, \"parquet\", \"4\"])\n",
    "    for e in pq_64_o:\n",
    "      results.append([e, \"parquet\", \"64\"])\n",
    "    for e in rpq_4_o:\n",
    "      results.append([e, 'rados-parquet', \"4\"])\n",
    "    for e in rpq_64_o:\n",
    "      results.append([e, 'rados-parquet', \"64\"])\n",
    "    df = pd.DataFrame(np.array(results), columns=['Duration (s)', 'File Format', 'Size (MB)'])\n",
    "    df[['Duration (s)']] = df[['Duration (s)']].apply(pd.to_numeric)\n",
    "    sns_plot = sns.barplot(x=\"File Format\", y=\"Duration (s)\", hue=\"Size (MB)\", data=df, ax=axs, palette=palette2)\n",
    "    \n",
    "    for e in pq_4:\n",
    "      results2.append([e, \"parquet\", \"4\"])\n",
    "    for e in pq_64:\n",
    "      results2.append([e, \"parquet\", \"64\"])\n",
    "    for e in rpq_4:\n",
    "      results2.append([e, 'rados-parquet', \"4\"])\n",
    "    for e in rpq_64:\n",
    "      results2.append([e, 'rados-parquet', \"64\"])\n",
    "    df = pd.DataFrame(np.array(results2), columns=['Duration (s)', 'File Format', 'Size (MB)'])\n",
    "    df[['Duration (s)']] = df[['Duration (s)']].apply(pd.to_numeric)\n",
    "    sns_plot = sns.barplot(x=\"File Format\", y=\"Duration (s)\", hue=\"Size (MB)\", data=df, ax=axs, palette=palette1)\n",
    "    \n",
    "    sns_plot.set(ylim=(0, 6000))\n",
    "\n",
    "\n",
    "#  just scan\n",
    "pq_4 =  [4521.03241285]\n",
    "pq_64 =  [3521.9600200653076]\n",
    "rpq_4 =  [5057]\n",
    "rpq_64 =  [3502.6229999999996]\n",
    "\n",
    "# scan + serialization + deserialization\n",
    "pq_4_o = [4521.03241285]\n",
    "pq_64_o =  [3521.9600200653076]\n",
    "rpq_4_o = [5057 + 750.1 + 44.07]\n",
    "rpq_64_o = [3502.6229999999996 + 645.4440000000001 + 3.494]\n",
    "plot(axs)"
   ]
  },
  {
   "cell_type": "code",
   "execution_count": 10,
   "id": "large-listing",
   "metadata": {},
   "outputs": [
    {
     "data": {
      "image/png": "[encoded data removed]",
      "text/plain": [
       "<Figure size 1080x360 with 1 Axes>"
      ]
     },
     "metadata": {
      "needs_background": "light"
     },
     "output_type": "display_data"
    }
   ],
   "source": [
    "\n",
    "fig, axs = plt.subplots(1, 1, figsize=(15, 5), gridspec_kw={'hspace': 0.1, 'wspace': 0.2})\n",
    "plt.rcParams.update({'font.size': 10})\n",
    "sns.despine(top=True, right=True)\n",
    "\n",
    "def plot(axs):\n",
    "    palette1 = sns.color_palette(\"Paired\", n_colors=5)\n",
    "    palette2 = sns.color_palette(\"coolwarm\", n_colors=5)\n",
    "    results = []\n",
    "    results2 = []\n",
    "    for e in pq_4_o:\n",
    "      results.append([e, \"parquet\", \"4\"])\n",
    "    for e in pq_64_o:\n",
    "      results.append([e, \"parquet\", \"64\"])\n",
    "    for e in rpq_4_o:\n",
    "      results.append([e, 'rados-parquet', \"4\"])\n",
    "    for e in rpq_64_o:\n",
    "      results.append([e, 'rados-parquet', \"64\"])\n",
    "    df = pd.DataFrame(np.array(results), columns=['Duration (s)', 'File Format', 'Size (MB)'])\n",
    "    df[['Duration (s)']] = df[['Duration (s)']].apply(pd.to_numeric)\n",
    "    sns_plot = sns.barplot(x=\"File Format\", y=\"Duration (s)\", hue=\"Size (MB)\", data=df, ax=axs, palette=palette2)\n",
    "    \n",
    "    for e in pq_4:\n",
    "      results2.append([e, \"parquet\", \"4\"])\n",
    "    for e in pq_64:\n",
    "      results2.append([e, \"parquet\", \"64\"])\n",
    "    for e in rpq_4:\n",
    "      results2.append([e, 'rados-parquet', \"4\"])\n",
    "    for e in rpq_64:\n",
    "      results2.append([e, 'rados-parquet', \"64\"])\n",
    "    df = pd.DataFrame(np.array(results2), columns=['Duration (s)', 'File Format', 'Size (MB)'])\n",
    "    df[['Duration (s)']] = df[['Duration (s)']].apply(pd.to_numeric)\n",
    "    sns_plot = sns.barplot(x=\"File Format\", y=\"Duration (s)\", hue=\"Size (MB)\", data=df, ax=axs, palette=palette1)\n",
    "    \n",
    "    sns_plot.set(ylim=(0, 6000))\n",
    "\n",
    "#  just scan\n",
    "pq_4 =  [4694.339]\n",
    "pq_64 =  [2930.912]\n",
    "rpq_4 =  [5401.838]\n",
    "rpq_64 =  [3502.6229999999996]\n",
    "\n",
    "# scan + serialization + deserialization\n",
    "pq_4_o =  [4694.339]\n",
    "pq_64_o =  [2930.912]\n",
    "rpq_4_o = [5401.838 + 750.1 + 44.07]\n",
    "rpq_64_o = [3502.6229999999996 + 645.4440000000001 + 3.494]\n",
    "plot(axs)"
   ]
  }
 ],
 "metadata": {
  "kernelspec": {
   "display_name": "Python 3",
   "language": "python",
   "name": "python3"
  },
  "language_info": {
   "codemirror_mode": {
    "name": "ipython",
    "version": 3
   },
   "file_extension": ".py",
   "mimetype": "text/x-python",
   "name": "python",
   "nbconvert_exporter": "python",
   "pygments_lexer": "ipython3",
   "version": "3.9.0"
  }
 },
 "nbformat": 4,
 "nbformat_minor": 5
}
